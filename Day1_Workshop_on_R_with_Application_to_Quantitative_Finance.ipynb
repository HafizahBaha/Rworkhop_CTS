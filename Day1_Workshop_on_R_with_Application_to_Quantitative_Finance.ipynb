{
  "nbformat": 4,
  "nbformat_minor": 0,
  "metadata": {
    "colab": {
      "provenance": []
    },
    "kernelspec": {
      "name": "ir",
      "display_name": "R"
    },
    "language_info": {
      "name": "R"
    }
  },
  "cells": [
    {
      "cell_type": "markdown",
      "source": [
        "# Chapter 1: Introduction to R"
      ],
      "metadata": {
        "id": "orZoboPq81Ti"
      }
    },
    {
      "cell_type": "markdown",
      "source": [
        "## 1.1 Expression\n",
        "\n",
        "For example: numerical calculation"
      ],
      "metadata": {
        "id": "gl_lTtbf9ZGj"
      }
    },
    {
      "cell_type": "code",
      "source": [
        "2.33+10\n",
        "4.69*2/0.3\n",
        "9.3+2.3/0.4"
      ],
      "metadata": {
        "id": "B94pEpFi9YRN"
      },
      "execution_count": null,
      "outputs": []
    },
    {
      "cell_type": "code",
      "source": [
        "#Exercise 1.1: Create one expression\n"
      ],
      "metadata": {
        "id": "xb5X-aI09xfn"
      },
      "execution_count": null,
      "outputs": []
    },
    {
      "cell_type": "markdown",
      "source": [
        "## 1.2 Creating new variables\n",
        "\n",
        "Variables are,in their simplest forms,like mathematical variables:they contain\n",
        "values.You can assign values using either = or <-.\n"
      ],
      "metadata": {
        "id": "f6MvDBCk-HTi"
      }
    },
    {
      "cell_type": "code",
      "source": [
        "a1=2.33+10\n",
        "data=4.69*2/0.3\n",
        "\n",
        "my_observation<-9.3+2.3/0.4"
      ],
      "metadata": {
        "id": "HjC0FkIJ-gbc"
      },
      "execution_count": 11,
      "outputs": []
    },
    {
      "cell_type": "code",
      "source": [
        "a1\n",
        "data\n",
        "my_observation"
      ],
      "metadata": {
        "id": "3na9rfbA-pzE"
      },
      "execution_count": null,
      "outputs": []
    },
    {
      "cell_type": "code",
      "source": [
        "#Exercise 1.2: Create new variable for exercise 1.1 "
      ],
      "metadata": {
        "id": "hBd2J2gi-wPa"
      },
      "execution_count": null,
      "outputs": []
    },
    {
      "cell_type": "markdown",
      "source": [
        "## 1.3 Data Types and Type Conversion"
      ],
      "metadata": {
        "id": "qPDC9eQk_HWt"
      }
    },
    {
      "cell_type": "markdown",
      "source": [
        "**Numeric and Character**"
      ],
      "metadata": {
        "id": "xV1fhgI5Adsh"
      }
    },
    {
      "cell_type": "code",
      "source": [
        "#value\n",
        "height <- 160.6\n",
        "breakfast <- \"No\""
      ],
      "metadata": {
        "id": "FoBloKdtBKqH"
      },
      "execution_count": 17,
      "outputs": []
    },
    {
      "cell_type": "code",
      "source": [
        "#data type \n",
        "is.numeric(height)\n",
        "is.character(breakfast)"
      ],
      "metadata": {
        "id": "Ac6FkvdJAcXs"
      },
      "execution_count": null,
      "outputs": []
    },
    {
      "cell_type": "code",
      "source": [
        "# Converting type\n",
        "\n",
        "height <- c(\"180\", \" 156 \", \"166\")\n",
        "is.numeric(height)"
      ],
      "metadata": {
        "id": "HqDTfoBy_tuV"
      },
      "execution_count": null,
      "outputs": []
    },
    {
      "cell_type": "code",
      "source": [
        "height.1 <- as.numeric(height)\n",
        "is.numeric(height.1)"
      ],
      "metadata": {
        "id": "yQDCuO7UD2sq"
      },
      "execution_count": null,
      "outputs": []
    },
    {
      "cell_type": "code",
      "source": [
        "#Exercise 1.3\n",
        "#change the data into numeric type\n",
        "\n",
        "breakfastcost=c(\"10.60\",\"6.80\",\"3.20\")"
      ],
      "metadata": {
        "id": "2Lq0s1AJD7HV"
      },
      "execution_count": null,
      "outputs": []
    },
    {
      "cell_type": "markdown",
      "source": [
        "## 1.4 Vectors\n",
        "A vector is a basic data structure which plays an important role in R programming. In R, a sequence of elements which share the same data type is known as vector. A vector supports logical, integer, double, character, complex, or raw data type."
      ],
      "metadata": {
        "id": "1LzBTM70E89P"
      }
    },
    {
      "cell_type": "code",
      "source": [
        "# Example\n",
        "v1=c(30,50,100)\n",
        "v2=c(45,66,29)"
      ],
      "metadata": {
        "id": "rpLGOz1mFaVd"
      },
      "execution_count": 36,
      "outputs": []
    },
    {
      "cell_type": "code",
      "source": [
        "#Aritmetic operation\n",
        "\n",
        "p1=v1+v2\n",
        "p1"
      ],
      "metadata": {
        "id": "U14j12OmFqbt"
      },
      "execution_count": null,
      "outputs": []
    },
    {
      "cell_type": "code",
      "source": [
        "#Exercise 1.4\n",
        "#create 2 vectors for a1 and a2, then calculate a2-a1"
      ],
      "metadata": {
        "id": "pCB7TIUQF7GH"
      },
      "execution_count": null,
      "outputs": []
    },
    {
      "cell_type": "markdown",
      "source": [],
      "metadata": {
        "id": "cSOe-3jTGKnW"
      }
    },
    {
      "cell_type": "markdown",
      "source": [
        "## 1.5 Matrices\n",
        "\n",
        "A matrix is a two dimensional data set with columns \n",
        "and rows.\n",
        "\n",
        "A column is a vertical representation of data, while a row is a horizontal representation of data.\n",
        "\n",
        "A matrix can be created with the matrix() function. Specify the nrow and ncol parameters to get the amount of rows and columns:\n",
        "\n",
        "\n",
        "\n"
      ],
      "metadata": {
        "id": "ltxkvA0CGPmB"
      }
    },
    {
      "cell_type": "code",
      "source": [
        "#Create Matrix\n",
        "M <- matrix(c(3:14), nrow = 4, ncol = 3)\n",
        "print(M)"
      ],
      "metadata": {
        "id": "Mv0v-7rvH2xV"
      },
      "execution_count": null,
      "outputs": []
    },
    {
      "cell_type": "code",
      "source": [
        "# Elements are arranged sequentially by row.\n",
        "M <- matrix(c(3:14), nrow = 4, byrow = TRUE)\n",
        "print(M)"
      ],
      "metadata": {
        "id": "OD08na6hIDSv"
      },
      "execution_count": null,
      "outputs": []
    },
    {
      "cell_type": "code",
      "source": [
        "# Elements are arranged sequentially by column.\n",
        "N <- matrix(c(3:14), nrow = 4, byrow = FALSE)\n",
        "print(N)"
      ],
      "metadata": {
        "id": "_PJBy6s_ILrp"
      },
      "execution_count": null,
      "outputs": []
    },
    {
      "cell_type": "code",
      "source": [
        "# Define the column and row names.\n",
        "rownames = c(\"row1\", \"row2\", \"row3\", \"row4\")\n",
        "colnames = c(\"col1\", \"col2\", \"col3\")\n",
        "\n",
        "P <- matrix(c(3:14), nrow = 4, byrow = TRUE, dimnames = list(rownames, colnames))\n",
        "print(P)"
      ],
      "metadata": {
        "id": "jHvn8gEdHe81"
      },
      "execution_count": null,
      "outputs": []
    },
    {
      "cell_type": "markdown",
      "source": [
        "### 1.5.1 Extract the elements"
      ],
      "metadata": {
        "id": "v92mqCh6JJ6C"
      }
    },
    {
      "cell_type": "code",
      "source": [
        "#Extract the elements\n",
        "\n",
        "#by row\n",
        "M[3,]\n",
        "\n",
        "#by column\n",
        "N[,2]\n",
        "\n",
        "#specify the location\n",
        "P[2,2]"
      ],
      "metadata": {
        "id": "TC7l7CwQIYK9"
      },
      "execution_count": null,
      "outputs": []
    },
    {
      "cell_type": "markdown",
      "source": [
        "### 1.5.2 Sum and average across the columns and rows\n",
        "\n",
        "function: *colSums(), rowSums(), colMeans() or rowMeans()*"
      ],
      "metadata": {
        "id": "oaOdx4d0JQry"
      }
    },
    {
      "cell_type": "code",
      "source": [
        "print(N)\n",
        "colSums(N)"
      ],
      "metadata": {
        "id": "6nrBHkcJJIme"
      },
      "execution_count": null,
      "outputs": []
    },
    {
      "cell_type": "code",
      "source": [
        "print(N)\n",
        "rowSums(N)"
      ],
      "metadata": {
        "id": "GliQ74l5JtlD"
      },
      "execution_count": null,
      "outputs": []
    },
    {
      "cell_type": "code",
      "source": [
        "## Exercise 1.5 Use colMeans() or rowMeans() for M matrix"
      ],
      "metadata": {
        "id": "6GgOaDzhJ9R5"
      },
      "execution_count": null,
      "outputs": []
    },
    {
      "cell_type": "markdown",
      "source": [
        "## 1.6 Lists\n",
        "A list in R can contain many different data types inside it. A list is a collection of data which is ordered and changeable.\n",
        "\n",
        "To create a list, use the list() function:"
      ],
      "metadata": {
        "id": "r0EW5t3DTScF"
      }
    },
    {
      "cell_type": "code",
      "source": [
        "# List of strings\n",
        "L1 <- list(\"grape\", \"banana\", \"mango\",\"papaya\",\"guava\")\n",
        "\n",
        "# Print the list\n",
        "L1"
      ],
      "metadata": {
        "id": "0s4n2-5GTqIx"
      },
      "execution_count": null,
      "outputs": []
    },
    {
      "cell_type": "code",
      "source": [
        "#Access Lists\n",
        "L1[3]"
      ],
      "metadata": {
        "id": "mwVn7mBST9vP"
      },
      "execution_count": null,
      "outputs": []
    },
    {
      "cell_type": "code",
      "source": [
        "#Change Item Value\n",
        "L1 <- list(\"grape\", \"banana\", \"mango\",\"papaya\",\"guava\")\n",
        "L1[2] <- \"blackcurrant\"\n",
        "\n",
        "# Print the updated list\n",
        "L1"
      ],
      "metadata": {
        "id": "GjFSI55pUOrg"
      },
      "execution_count": null,
      "outputs": []
    },
    {
      "cell_type": "code",
      "source": [
        "#Add List Items\n",
        "L1 <- list(\"grape\", \"banana\", \"mango\",\"papaya\",\"guava\")\n",
        "\n",
        "L2<-append(L1, \"orange\")\n",
        "\n",
        "L2"
      ],
      "metadata": {
        "id": "4J9STeOBUf3I"
      },
      "execution_count": null,
      "outputs": []
    },
    {
      "cell_type": "markdown",
      "source": [
        "## 1.7 Data Frames\n",
        "\n",
        "Data Frames are data displayed in a format as a table.\n",
        "\n",
        "Data Frames can have different types of data inside it. While the first column can be character, the second and third can be numeric or logical. However, each column should have the same type of data.\n",
        "\n",
        "Use the data.frame() function to create a data frame:"
      ],
      "metadata": {
        "id": "-u0C4-ksUyeF"
      }
    },
    {
      "cell_type": "code",
      "source": [
        "# Example\n",
        "v1 = c(1, 2, 3)\n",
        "v2 = c(3, 4, 5)\n",
        "df = data.frame(v1, v2)\n",
        "df"
      ],
      "metadata": {
        "id": "qiM-5pnZWAkk"
      },
      "execution_count": null,
      "outputs": []
    },
    {
      "cell_type": "code",
      "source": [
        "# Example \n",
        "#Create a data frame\n",
        "Data_Frame <- data.frame (\n",
        "  Training = c(\"Strength\", \"Stamina\", \"Other\"),\n",
        "  Pulse = c(100, 150, 120),\n",
        "  Duration = c(60, 30, 45)\n",
        ")\n",
        "\n",
        "# Print the data frame\n",
        "Data_Frame"
      ],
      "metadata": {
        "id": "Nd3myEIZVKg5"
      },
      "execution_count": null,
      "outputs": []
    },
    {
      "cell_type": "code",
      "source": [
        "#Summarize the Data\n",
        "summary(Data_Frame)"
      ],
      "metadata": {
        "id": "VkYFLc93VTI2"
      },
      "execution_count": null,
      "outputs": []
    },
    {
      "cell_type": "code",
      "source": [
        "#Exercise 1.7: Create a simple data frame from 3 vectors."
      ],
      "metadata": {
        "id": "SALOGIrkVqE4"
      },
      "execution_count": null,
      "outputs": []
    },
    {
      "cell_type": "markdown",
      "source": [
        "## 1.8 Time series\n",
        "\n",
        "Time Series in R is used to see how an object behaves over a period of time. In R, it can be easily done by ts() function with some parameters. \n",
        "\n",
        "Time series takes the data vector and each data is connected with timestamp value as given by the user. \n",
        "\n",
        "This function is mostly used to learn and forecast the behavior of an asset in business for a period of time. For example, sales analysis of a company, inventory analysis, price analysis of a particular stock or market, population analysis, etc."
      ],
      "metadata": {
        "id": "QDamXnwEV30q"
      }
    },
    {
      "cell_type": "markdown",
      "source": [
        "Syntax:  ***objectName <- ts(data, start, end, frequency)***\n",
        "\n",
        "where,\n",
        "\n",
        "* data represents the data vector\n",
        "* start represents the first observation in time series\n",
        "* end represents the last observation in time series\n",
        "* frequency represents number of observations per unit time. For example, frequency=1 for monthly data."
      ],
      "metadata": {
        "id": "39GNrBTbW_3H"
      }
    },
    {
      "cell_type": "code",
      "source": [
        "# Example\n",
        "# Consider the annual rainfall details at a place starting from January 2012.\n",
        "# We create an R time series object for a period of 12 months and plot it.\n",
        "\n",
        "# Get the data points in form of a R vector.\n",
        "rainfall <- c(799,1174.8,865.1,1334.6,635.4,918.5,685.5,998.6,784.2,985,882.8,1071)\n",
        "\n",
        "# Convert it to a time series object.\n",
        "rainfall.timeseries <- ts(rainfall,start = c(2012,1),frequency = 12)\n",
        "\n",
        "# Print the timeseries data.\n",
        "print(rainfall.timeseries)\n",
        "\n",
        "# Plot a graph of the time series.\n",
        "plot(rainfall.timeseries)"
      ],
      "metadata": {
        "id": "DzSxcF1SVzQR"
      },
      "execution_count": null,
      "outputs": []
    },
    {
      "cell_type": "markdown",
      "source": [
        "## 1.9 Data wrangling\n"
      ],
      "metadata": {
        "id": "8Weg_WClYqpv"
      }
    },
    {
      "cell_type": "markdown",
      "source": [
        "**Example:** In this example, we first loaded the \"dplyr\" library, then loaded the built-in \"mtcars\" dataset. We then selected specific columns of interest (mpg, hp, and drat), filtered rows where the mpg was greater than 20, grouped the data by horsepower, and calculated the mean mpg for each group. Finally, we sorted the data by mean mpg in descending order."
      ],
      "metadata": {
        "id": "ffVoT3DNY_I5"
      }
    },
    {
      "cell_type": "code",
      "source": [
        "install.packages(\"dplyr\")"
      ],
      "metadata": {
        "id": "e_8v-e76ZN-e"
      },
      "execution_count": null,
      "outputs": []
    },
    {
      "cell_type": "code",
      "source": [
        "# Load library\n",
        "library(dplyr)\n",
        "\n",
        "# Load sample data\n",
        "data(mtcars)\n",
        "\n",
        "head(mtcars, 6)\n"
      ],
      "metadata": {
        "id": "7L2Tahu8Y5dQ"
      },
      "execution_count": null,
      "outputs": []
    },
    {
      "cell_type": "code",
      "source": [
        "# Select specific columns\n",
        "mtcars_subset <- mtcars %>% select(mpg, hp, drat)\n",
        "mtcars_subset \n"
      ],
      "metadata": {
        "id": "8cZjp3fdaZW6"
      },
      "execution_count": null,
      "outputs": []
    },
    {
      "cell_type": "code",
      "source": [
        "# Filter rows\n",
        "mtcars_subset_filtered <- mtcars_subset %>% filter(mpg > 20)\n",
        "mtcars_subset_filtered"
      ],
      "metadata": {
        "id": "9slhGFI9acZP"
      },
      "execution_count": null,
      "outputs": []
    },
    {
      "cell_type": "code",
      "source": [
        "# Group by a column and summarize\n",
        "mtcars_grouped <- mtcars_subset_filtered %>% group_by(hp) %>% summarize(mean_mpg = mean(mpg))\n",
        "mtcars_grouped"
      ],
      "metadata": {
        "id": "kaicxEPLadrW"
      },
      "execution_count": null,
      "outputs": []
    },
    {
      "cell_type": "code",
      "source": [
        "# Sort by a column\n",
        "mtcars_sorted <- mtcars_grouped %>% arrange(desc(mean_mpg))\n",
        "mtcars_sorted"
      ],
      "metadata": {
        "id": "1grCwB-AZ_Fk"
      },
      "execution_count": null,
      "outputs": []
    },
    {
      "cell_type": "code",
      "source": [
        "#Exercise 1.9\n",
        "\n",
        "# Load the mtcars dataset\n",
        "\n",
        "# View the first 6 rows of the dataset\n",
        "\n",
        "# Select only the columns \"mpg\" and \"cyl\"\n",
        "\n",
        "# Rename the columns to \"Miles_Per_Gallon\" and \"Cylinders\"\n",
        "\n",
        "# Filter the dataset to only include cars with 6 cylinders\n",
        "\n",
        "# Sort the dataset by Miles_Per_Gallon in descending order\n"
      ],
      "metadata": {
        "id": "IkklbzcBbdx0"
      },
      "execution_count": null,
      "outputs": []
    },
    {
      "cell_type": "code",
      "source": [
        "#Answer\n",
        "# Load the dataset\n",
        "data(mtcars)\n",
        "\n",
        "# View the first 6 rows of the dataset\n",
        "head(mtcars)\n",
        "\n",
        "# Select only the columns \"mpg\" and \"cyl\"\n",
        "mtcars_subset <- mtcars[, c(\"mpg\", \"cyl\")]\n",
        "\n",
        "# Rename the columns to \"Miles_Per_Gallon\" and \"Cylinders\"\n",
        "colnames(mtcars_subset) <- c(\"Miles_Per_Gallon\", \"Cylinders\")\n",
        "\n",
        "# Filter the dataset to only include cars with 6 cylinders\n",
        "mtcars_subset <- mtcars_subset[mtcars_subset$Cylinders == 6, ]\n",
        "\n",
        "# Sort the dataset by Miles_Per_Gallon in descending order\n",
        "mtcars_subset <- mtcars_subset[order(-mtcars_subset$Miles_Per_Gallon), ]"
      ],
      "metadata": {
        "id": "eOlBWfOEbiti"
      },
      "execution_count": null,
      "outputs": []
    },
    {
      "cell_type": "markdown",
      "source": [
        "# Chapter 2: Data Transformation"
      ],
      "metadata": {
        "id": "PKrTJBlUbt5Y"
      }
    },
    {
      "cell_type": "markdown",
      "source": [
        "## 2.1 Data"
      ],
      "metadata": {
        "id": "LVu6Him2f0Gv"
      }
    },
    {
      "cell_type": "code",
      "source": [
        "# Create a sample data frame\n",
        "df <- data.frame(id = c(1,2,3,4,5),\n",
        "                 group = c(\"A\",\"B\",\"A\",\"B\",\"A\"),\n",
        "                 value = c(10,20,30,40,50))\n",
        "df"
      ],
      "metadata": {
        "id": "3dS5OPDCsWQ5"
      },
      "execution_count": null,
      "outputs": []
    },
    {
      "cell_type": "markdown",
      "source": [
        "## 2.2 Group_by"
      ],
      "metadata": {
        "id": "yqAPzYL_sgzE"
      }
    },
    {
      "cell_type": "code",
      "source": [
        "# Group by 'group' column and summarize the mean of 'value'\n",
        "df %>% \n",
        "  group_by(group) %>% \n",
        "  summarize(mean_value = mean(value))"
      ],
      "metadata": {
        "id": "IoGipKbtsm2y"
      },
      "execution_count": null,
      "outputs": []
    },
    {
      "cell_type": "markdown",
      "source": [
        "1.3 Filter"
      ],
      "metadata": {
        "id": "yBteU1gptYGJ"
      }
    },
    {
      "cell_type": "code",
      "source": [
        "# Filter rows where 'value' is greater than 25\n",
        "df %>% \n",
        "  filter(value > 25)"
      ],
      "metadata": {
        "id": "f5XT5UvRtZ2d"
      },
      "execution_count": null,
      "outputs": []
    },
    {
      "cell_type": "markdown",
      "source": [
        "## 2.3 Arrange"
      ],
      "metadata": {
        "id": "hhguvfgftpIy"
      }
    },
    {
      "cell_type": "code",
      "source": [
        "# Arrange the data frame by 'value' in descending order\n",
        "df %>% \n",
        "  arrange(desc(value))"
      ],
      "metadata": {
        "id": "pa69OAtpt1BQ"
      },
      "execution_count": null,
      "outputs": []
    },
    {
      "cell_type": "markdown",
      "source": [
        "## 2.4 Rename"
      ],
      "metadata": {
        "id": "PmDIctiyt34h"
      }
    },
    {
      "cell_type": "code",
      "source": [
        "# Rename the 'value' column to 'new_value'\n",
        "df %>% \n",
        "  rename(new_value = value)"
      ],
      "metadata": {
        "id": "kMjZq9JcuFRd"
      },
      "execution_count": null,
      "outputs": []
    },
    {
      "cell_type": "markdown",
      "source": [
        "## 2.5 Mutate"
      ],
      "metadata": {
        "id": "viessKg-uKoz"
      }
    },
    {
      "cell_type": "code",
      "source": [
        "# Mutate a new column 'squared_value' with the square of 'value'\n",
        "df %>% \n",
        "  mutate(squared_value = value^2)\n"
      ],
      "metadata": {
        "id": "x4ydb3ukuOM_"
      },
      "execution_count": null,
      "outputs": []
    },
    {
      "cell_type": "markdown",
      "source": [
        "## 2.6 Summarize"
      ],
      "metadata": {
        "id": "6JASEHsHuT7l"
      }
    },
    {
      "cell_type": "code",
      "source": [
        "# Summarize the total 'value' for each 'group'\n",
        "df %>% \n",
        "  group_by(group) %>% \n",
        "  summarize(total_value = sum(value))"
      ],
      "metadata": {
        "id": "66WL4NTUthJX"
      },
      "execution_count": null,
      "outputs": []
    },
    {
      "cell_type": "markdown",
      "source": [
        "## Exercise\n"
      ],
      "metadata": {
        "id": "Yjoz6cR2uyWK"
      }
    },
    {
      "cell_type": "code",
      "source": [
        "## Data\n",
        "# Create a sample data frame\n",
        "stock_prices <- data.frame(date = as.Date(c(\"2021-01-01\", \"2021-01-02\", \"2021-01-03\", \"2021-01-04\", \"2021-01-05\")),\n",
        "                           stock = c(\"AAPL\", \"AAPL\", \"GOOG\", \"GOOG\", \"AAPL\"),\n",
        "                           price = c(100, 110, 120, 130, 140),\n",
        "                           volume = c(1000, 800, 600, 400, 200))\n",
        "stock_prices                        "
      ],
      "metadata": {
        "id": "KVXDzUcAu9XU"
      },
      "execution_count": null,
      "outputs": []
    },
    {
      "cell_type": "markdown",
      "source": [
        "\n",
        "\n",
        "*   Group by 'stock' column and summarize the average price and volume\n",
        "*   Filter rows where the price is greater than 120\n",
        "*   Arrange the data frame by date in ascending order\n",
        "*   Rename the 'price' column to 'closing_price'\n",
        "*   Mutate a new column 'price_change' as the difference between current and previous price\n",
        "*   Summarize the total volume for each stock \n",
        "\n"
      ],
      "metadata": {
        "id": "olPrVBdrvyXI"
      }
    },
    {
      "cell_type": "code",
      "source": [
        "##Group_by\n",
        "# Group by 'stock' column and summarize the average price and volume\n",
        "stock_prices %>% \n",
        "  group_by(stock) %>% \n",
        "  summarize(average_price = mean(price),\n",
        "            average_volume = mean(volume))"
      ],
      "metadata": {
        "id": "l5ZWAptOvG4q"
      },
      "execution_count": null,
      "outputs": []
    },
    {
      "cell_type": "code",
      "source": [
        "##Filter\n",
        "# Filter rows where the price is greater than 120\n",
        "stock_prices %>% \n",
        "  filter(price > 120)"
      ],
      "metadata": {
        "id": "4KBrLMLKvTUF"
      },
      "execution_count": null,
      "outputs": []
    },
    {
      "cell_type": "code",
      "source": [
        "## Arrange\n",
        "# Arrange the data frame by date in ascending order\n",
        "stock_prices %>% \n",
        "  arrange(date)"
      ],
      "metadata": {
        "id": "DeDhktXwvcPj"
      },
      "execution_count": null,
      "outputs": []
    },
    {
      "cell_type": "code",
      "source": [
        "## Rename\n",
        "# Rename the 'price' column to 'closing_price'\n",
        "stock_prices %>% \n",
        "  rename(closing_price = price)\n"
      ],
      "metadata": {
        "id": "VHGXNcXQvg8p"
      },
      "execution_count": null,
      "outputs": []
    },
    {
      "cell_type": "code",
      "source": [
        "##Mutate\n",
        "# Mutate a new column 'price_change' as the difference between current and previous price\n",
        "stock_prices %>% \n",
        "  mutate(price_change = price - lag(price))"
      ],
      "metadata": {
        "id": "E4nTdfAjvmV7"
      },
      "execution_count": null,
      "outputs": []
    },
    {
      "cell_type": "code",
      "source": [
        "## Summarize\n",
        "# Summarize the total volume for each stock\n",
        "stock_prices %>% \n",
        "  group_by(stock) %>% \n",
        "  summarize(total_volume = sum(volume))"
      ],
      "metadata": {
        "id": "iyxSBmavvqpD"
      },
      "execution_count": null,
      "outputs": []
    }
  ]
}