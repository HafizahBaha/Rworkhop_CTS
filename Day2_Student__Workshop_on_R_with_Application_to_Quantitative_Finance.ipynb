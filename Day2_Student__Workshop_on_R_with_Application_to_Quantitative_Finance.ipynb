{
  "nbformat": 4,
  "nbformat_minor": 0,
  "metadata": {
    "colab": {
      "provenance": [],
      "include_colab_link": true
    },
    "kernelspec": {
      "name": "ir",
      "display_name": "R"
    },
    "language_info": {
      "name": "R"
    }
  },
  "cells": [
    {
      "cell_type": "markdown",
      "metadata": {
        "id": "view-in-github",
        "colab_type": "text"
      },
      "source": [
        "<a href=\"https://colab.research.google.com/github/HafizahBaha/Rworkhop_CTS/blob/main/Day2_Student__Workshop_on_R_with_Application_to_Quantitative_Finance.ipynb\" target=\"_parent\"><img src=\"https://colab.research.google.com/assets/colab-badge.svg\" alt=\"Open In Colab\"/></a>"
      ]
    },
    {
      "cell_type": "markdown",
      "source": [
        "# Chapter 4 Finance with R"
      ],
      "metadata": {
        "id": "HA17qX7hDqr_"
      }
    },
    {
      "cell_type": "markdown",
      "source": [
        "## Returns"
      ],
      "metadata": {
        "id": "Ce260GI-EYRb"
      }
    },
    {
      "cell_type": "markdown",
      "source": [
        "## 4.1 Install the library"
      ],
      "metadata": {
        "id": "gmBpCVzWGElU"
      }
    },
    {
      "cell_type": "code",
      "source": [
        "install.packages(\"quantmod\")"
      ],
      "metadata": {
        "id": "GFq99hjmEbGD"
      },
      "execution_count": null,
      "outputs": []
    },
    {
      "cell_type": "code",
      "source": [
        "library(\"quantmod\")"
      ],
      "metadata": {
        "id": "xNu_qaJrFKSd"
      },
      "execution_count": null,
      "outputs": []
    },
    {
      "cell_type": "markdown",
      "source": [
        "## 4.2 Create the data"
      ],
      "metadata": {
        "id": "OY4YVrfNGN4K"
      }
    },
    {
      "cell_type": "code",
      "source": [
        "my_prices <- c(57, 63, 71, 68, 75, 71, 79)                       # Create example vector\n",
        "my_prices                                                        # Print example vector"
      ],
      "metadata": {
        "id": "LTPNkijMSVPS"
      },
      "execution_count": null,
      "outputs": []
    },
    {
      "cell_type": "markdown",
      "source": [
        "## 4.3 Plot the data"
      ],
      "metadata": {
        "id": "USVsiQo0Sfpt"
      }
    },
    {
      "cell_type": "code",
      "source": [
        "plot(my_prices, type = \"l\")"
      ],
      "metadata": {
        "id": "F1yXl7l3SWeL"
      },
      "execution_count": null,
      "outputs": []
    },
    {
      "cell_type": "markdown",
      "source": [
        "## 4.4 Calculate the returns\n"
      ],
      "metadata": {
        "id": "muayVpv4SqR8"
      }
    },
    {
      "cell_type": "code",
      "source": [
        "#Manual calculations\n",
        "vec_return1 <- diff(my_prices) / my_prices[- length(my_prices)]  # Calculate returns\n",
        "vec_return1                                                      # Print returns"
      ],
      "metadata": {
        "id": "XC6qSeWOSxxz"
      },
      "execution_count": null,
      "outputs": []
    },
    {
      "cell_type": "code",
      "source": [
        "#Library quantmod\n",
        "vec_return2 <- Delt(my_prices)                                   # Calculate returns\n",
        "vec_return2"
      ],
      "metadata": {
        "id": "NJKxt07MS0et"
      },
      "execution_count": null,
      "outputs": []
    },
    {
      "cell_type": "code",
      "source": [
        "#Exercise\n",
        "#Calculate the returns for a=20.78\t20.82\t20.7\t20.7\t20.7\t20.7\t20.68\t20.72\t20.5\t20.7\t20.76\t20.8\t20.36\t20.2\t20.02\n"
      ],
      "metadata": {
        "id": "bFtXEt_nTGeL"
      },
      "execution_count": null,
      "outputs": []
    },
    {
      "cell_type": "markdown",
      "source": [
        "# Option Pricing"
      ],
      "metadata": {
        "id": "6eICGOF4TGD2"
      }
    },
    {
      "cell_type": "markdown",
      "source": [
        "Define the option parameters\n",
        "\n",
        "* stock_price = 105\n",
        "* strike_price =100\n",
        "* volatility = 0.3\n",
        "* time_to_maturity = 10/365\n",
        "* interest_rate = 0.03"
      ],
      "metadata": {
        "id": "hhkEQ5fzVxk0"
      }
    },
    {
      "cell_type": "markdown",
      "source": [
        "## 5.1 Calculate using functions"
      ],
      "metadata": {
        "id": "hsNk9niKVgEx"
      }
    },
    {
      "cell_type": "markdown",
      "source": [
        "### 5.1.1 Call option"
      ],
      "metadata": {
        "id": "15_HptLOW00D"
      }
    },
    {
      "cell_type": "code",
      "source": [
        "BlackScholes.Call = function(S, K,sigma,r,q,tau){\n",
        "d1 = (log(S/K) + (r - q + sigma^2/2)*tau) / (sigma*sqrt(tau))\n",
        "d2 = d1 - sigma * sqrt(tau)\n",
        "price = S * exp(-q*tau) * pnorm(d1) - K*exp(-r*tau)*pnorm(d2)\n",
        "return(price)\n",
        "}"
      ],
      "metadata": {
        "id": "P4hJaKAhVmYY"
      },
      "execution_count": null,
      "outputs": []
    },
    {
      "cell_type": "code",
      "source": [
        "BlackScholes.Call(S = 105, K = 100, sigma = 0.3, r = 0.03,\n",
        "q = 0.01, tau = 10/365)"
      ],
      "metadata": {
        "colab": {
          "base_uri": "https://localhost:8080/",
          "height": 34
        },
        "id": "Mu_uj06DVWY6",
        "outputId": "1cac005c-5b57-4ed9-b896-549045ccf474"
      },
      "execution_count": null,
      "outputs": [
        {
          "output_type": "display_data",
          "data": {
            "text/html": [
              "5.48220611431859"
            ],
            "text/markdown": "5.48220611431859",
            "text/latex": "5.48220611431859",
            "text/plain": [
              "[1] 5.482206"
            ]
          },
          "metadata": {}
        }
      ]
    },
    {
      "cell_type": "markdown",
      "source": [
        "### 5.1.2 Put option"
      ],
      "metadata": {
        "id": "Lk-mfmijW5CV"
      }
    },
    {
      "cell_type": "code",
      "source": [
        "BlackScholes.Put = function(S, K,sigma,r,q,tau){\n",
        "d1 = (log(S/K) + (r - q + sigma^2/2)*tau) / (sigma*sqrt(tau))\n",
        "d2 = d1 - sigma * sqrt(tau)\n",
        "price = K*exp(-r*tau)*pnorm(-d2) - S*exp(-q*tau)*pnorm(-d1)\n",
        "return(price)\n",
        "}"
      ],
      "metadata": {
        "id": "D6NPJyBrXBAu"
      },
      "execution_count": null,
      "outputs": []
    },
    {
      "cell_type": "code",
      "source": [
        "BlackScholes.Put(105, 100, 0.3, 0.03, 0.01, 10/365)"
      ],
      "metadata": {
        "colab": {
          "base_uri": "https://localhost:8080/",
          "height": 34
        },
        "id": "9pSSRhRpXE4T",
        "outputId": "e46d4263-8c7f-4c76-9d06-5090ae513278"
      },
      "execution_count": null,
      "outputs": [
        {
          "output_type": "display_data",
          "data": {
            "text/html": [
              "0.428811284634342"
            ],
            "text/markdown": "0.428811284634342",
            "text/latex": "0.428811284634342",
            "text/plain": [
              "[1] 0.4288113"
            ]
          },
          "metadata": {}
        }
      ]
    },
    {
      "cell_type": "code",
      "source": [
        "#Exercise: Calculate the call option\n",
        "#stock_price <- 100\n",
        "#strike_price <- 110\n",
        "#volatility <- 0.3\n",
        "#time_to_maturity <- 0.5\n",
        "#interest_rate <- 0.05"
      ],
      "metadata": {
        "id": "b2fAZO7TXHaB"
      },
      "execution_count": null,
      "outputs": []
    }
  ]
}